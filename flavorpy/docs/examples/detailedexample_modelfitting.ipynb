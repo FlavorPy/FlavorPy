{
 "cells": [
  {
   "cell_type": "code",
   "execution_count": 1,
   "id": "73d87ad1",
   "metadata": {},
   "outputs": [],
   "source": [
    "# Specify location to FlavorPy files\n",
    "directory_to_git_folder = \"/home/alex/GitRepos/FlavorPy/flavorpy\"\n",
    "import os\n",
    "os.chdir(os.path.expanduser(directory_to_git_folder))\n",
    "\n",
    "import modelfitting as mf\n",
    "import numpy as np\n",
    "import pandas as pd"
   ]
  },
  {
   "cell_type": "markdown",
   "id": "29c210db",
   "metadata": {},
   "source": [
    "# Detailed example"
   ]
  },
  {
   "cell_type": "markdown",
   "id": "40e62a59",
   "metadata": {},
   "source": [
    "Let us now take a look at a more involved example that better showcases more advanced features of the modelfitting package. More specifically we consider the Model 1 described in section 3.1.2 of https://arxiv.org/abs/1706.08749. This is a model of modular flavor symmetries, where modular forms are present in the neutrino mass matrix.\n",
    "\n",
    "We begin by importing the necessary packages:"
   ]
  },
  {
   "cell_type": "code",
   "execution_count": 2,
   "id": "9bd9fba4",
   "metadata": {},
   "outputs": [],
   "source": [
    "# Import the modelfitting module of FlavorPy\n",
    "#import flavorpy.modelfitting as mf\n",
    "\n",
    "# We will also need numpy and pandas\n",
    "import numpy as np\n",
    "import pandas as pd"
   ]
  },
  {
   "cell_type": "markdown",
   "id": "594b6921",
   "metadata": {},
   "source": [
    "## Mass matrices"
   ]
  },
  {
   "cell_type": "markdown",
   "id": "8a007e15",
   "metadata": {},
   "source": [
    "Then we define the mass matrices. There is a subtlety: The modelfitting package considers a mass matrix $M$ for $\\Phi_\\mathrm{left} ~M~ \\Phi_{\\mathrm{right}}$. However the convention used in the paper is $E^c ~M_\\mathrm{e}~L$, where $E^c$ is right-handed and $L$ is left-handed, meaning that we need to transpose the mass matrix compared to the paper! For this specific case the mass matrices are symmetric anyway. It is highly recommended to only use dimensionless parameters and then have one dimensionfull parameter, i.e. an overall scale, in front of the mass matrix. For the neutrino mass matrix, please name this parameter 'n_scale'. For the charged lepton mass matrix, simply ignore it, because we will only fit charged lepton mass ratios."
   ]
  },
  {
   "cell_type": "code",
   "execution_count": 3,
   "id": "42ab30e7",
   "metadata": {},
   "outputs": [],
   "source": [
    "# Charged lepton mass matrix\n",
    "def Me(params):\n",
    "    return np.transpose(np.array([[params['alpha'], 0, 0],\n",
    "                                  [0, params['beta'], 0],\n",
    "                                  [0, 0, params['gamma']]]))\n",
    "\n",
    "# Modular forms\n",
    "def Y1(tau, **kwargs):\n",
    "    q=np.exp(2j*np.pi*tau/3)\n",
    "    return 1 + 12*np.power(q, 1*3) + 36*np.power(q, 2*3) + 12*np.power(q, 3*3)\n",
    "def Y2(tau, **kwargs):\n",
    "    q=np.exp(2j*np.pi*tau/3)\n",
    "    return -6*q*(1 + 7*np.power(q,1*3) + 8*np.power(q, 2*3))\n",
    "def Y3(tau, **kwargs):\n",
    "    q=np.exp(2j*np.pi*tau/3)\n",
    "    return -18*np.power(q, 2)*(1 + 2*np.power(q, 1*3) + 5*np.power(q, 2*3))\n",
    "\n",
    "# Neutrino mass matrix\n",
    "def Mn(params):\n",
    "    tau = params['Retau']+1j*params['Imtau']\n",
    "    return params['n_scale']*np.transpose(np.array([[2*Y1(tau), -1*Y3(tau), -1*Y2(tau)],\n",
    "                                                    [-1*Y3(tau), 2*Y2(tau), -1*Y1(tau)],\n",
    "                                                    [-1*Y2(tau), -1*Y1(tau), 2*Y3(tau)]], dtype=complex))"
   ]
  },
  {
   "cell_type": "markdown",
   "id": "7b1a913c",
   "metadata": {},
   "source": [
    "## Parameter space"
   ]
  },
  {
   "cell_type": "markdown",
   "id": "c6ed395f",
   "metadata": {},
   "source": [
    "Next we construct the parameter space. We therefore write our own sampling functions, that when called yield a random point. Note that especailly for fitting complicated models the sampling heavily impacts the number of random points (and therefore also the time) needed to find a good fit. A logarithmic sampling or a mixture of logarithmic and linear sampling is often a good idea. The ‘lin_sampling(low, high)’ defined here draws a random number between ‘low’ and ‘high’ with a uniform distribution. The ‘const_sampling(value)’ always yields ‘value’ when called. For our specific model, we can already know what the values of alpha, beta and gamma will be, since they are directly correlated to the charged lepton masses. We will therefore use const_sampling to set them by hand to a fixed value and prevent the fitting algorithm from varying this value by setting ‘vary=False’. For the modulus tau, we will choose the ‘lin_sampling’ and restrict the boundaries of the parameter space by ‘min’ and ‘max’."
   ]
  },
  {
   "cell_type": "code",
   "execution_count": 4,
   "id": "1457801e",
   "metadata": {},
   "outputs": [],
   "source": [
    "# Sampling functions\n",
    "def lin_sampling(low=0, high=1):\n",
    "    def fct():\n",
    "        return np.random.uniform(low=low, high=high)\n",
    "    return fct\n",
    "def const_sampling(value=0):\n",
    "    def fct():\n",
    "        return value\n",
    "    return fct\n",
    "\n",
    "# Constructing the parameter space\n",
    "ParamSpace = mf.ParameterSpace()\n",
    "ParamSpace.add_dim(name='Retau', sample_fct=lin_sampling(low=-0.5, high=0.5), min=-0.5, max=0.5)\n",
    "ParamSpace.add_dim(name='Imtau', sample_fct=lin_sampling(low=0.866, high=3), min=0.866, max=4)\n",
    "ParamSpace.add_dim(name='n_scale', sample_fct=const_sampling(1.), vary=False)\n",
    "ParamSpace.add_dim(name='alpha', sample_fct=const_sampling(0.0048*0.0565), vary=False)\n",
    "ParamSpace.add_dim(name='beta', sample_fct=const_sampling(0.0565), vary=False)\n",
    "ParamSpace.add_dim(name='gamma', sample_fct=const_sampling(1.), vary=False)"
   ]
  },
  {
   "cell_type": "markdown",
   "id": "0e361568",
   "metadata": {},
   "source": [
    "## Experimental data"
   ]
  },
  {
   "cell_type": "markdown",
   "id": "be74d69d",
   "metadata": {},
   "source": [
    "We already know from the paper that this model gives better fits with an invered neutrino mass ordering. We therefore choose the NuFit v5.2 experimental data for inverted ordering including the SK data. The onedimensional chisqure projections of the NuFit v5.2 data are already implemented in the modelfitting package and can be simply loaded by"
   ]
  },
  {
   "cell_type": "code",
   "execution_count": 5,
   "id": "85058180",
   "metadata": {},
   "outputs": [
    {
     "data": {
      "text/plain": [
       "NuFit v5.2 IO with SK chisquare profiles"
      ]
     },
     "execution_count": 5,
     "metadata": {},
     "output_type": "execute_result"
    }
   ],
   "source": [
    "mf.NuFit52_IO"
   ]
  },
  {
   "cell_type": "markdown",
   "id": "47fe6e4e",
   "metadata": {},
   "source": [
    "If you wanted to compare your model to your own experimental data, you can create an experimental dataset by"
   ]
  },
  {
   "cell_type": "code",
   "execution_count": 6,
   "id": "1e29d141",
   "metadata": {},
   "outputs": [],
   "source": [
    "my_table = pd.DataFrame(np.array([\n",
    "    [0.0048, 0.0565, 0.303, 0.02223, 0.569, 0.0741/-2.486, 1.54, 7.41e-05, -2.486e-03],\n",
    "    [0.0046, 0.0520, 0.292, 0.02165, 0.548, 0.0721/-2.511, 1.38, 7.21e-05, -2.458e-03],\n",
    "    [0.0050, 0.0610, 0.315, 0.02281, 0.585, 0.0762/-2.458, 1.67, 7.62e-05, -2.511e-03]]),\n",
    "                             columns=[\"me/mu\", \"mu/mt\", \"s12^2\", \"s13^2\", \"s23^2\", \"r\", \"d/pi\", \"m21^2\", \"m3l^2\"],\n",
    "                             index=['best', '1sig_min', '1sig_max'])\n",
    "My_ExpData = mf.ExperimentalData(name='my name', data_table=my_table)"
   ]
  },
  {
   "cell_type": "markdown",
   "id": "5c69b19a",
   "metadata": {},
   "source": [
    "The total resudiual is then $\\chi^2 = \\sum_x \\chi^2_x$, where $x$ represents the observables, e.g. ‘me/mu’. The individual contributions are determined by $\\chi^2_x = \\big(\\dfrac{x_\\mathrm{model} - x_\\mathrm{best}}{1/2\\,(x_{1\\mathrm{sig}\\_\\mathrm{max}} - x_\\mathrm{1sig\\_min}) }\\big)^2$, where $x_\\mathrm{model}$ is the value of the model and $x_\\mathrm{best}$, $x_{1\\mathrm{sig\\_max}}$, and $x_{1\\mathrm{sig\\_min}}$ are the experimental values\n",
    "\n",
    "\n",
    "Alternatively, if you have a non-gaussian error distribution for lets say me/mu and you want $\\chi^2$ to be calculated using a specific $\\chi^2$-profile, then you can define your experimental data set as"
   ]
  },
  {
   "cell_type": "code",
   "execution_count": 7,
   "id": "48b8f8b4",
   "metadata": {},
   "outputs": [],
   "source": [
    "def memu_profile(memu):  # This is just an example profile\n",
    "    return 1e11*(memu - 0.003) * (memu - 0.007) * (memu - 0.008) * (memu - 0.001) + 3.0978\n",
    "\n",
    "My_ExpData_2 = mf.ExperimentalData(name='my name2', \n",
    "                                   data_table=my_table[[key for key in my_table.columns if key not in ['me/mu']]],\n",
    "                                   data={'me/mu':memu_profile})"
   ]
  },
  {
   "cell_type": "markdown",
   "id": "4df6a574",
   "metadata": {},
   "source": [
    "## Constructing the model"
   ]
  },
  {
   "cell_type": "markdown",
   "id": "c34f2d03",
   "metadata": {},
   "source": [
    "In the modelfitting module, everything is packed into a class called Model. The Model object contains the mass matrices, the parameterspace, the experimental data, the neutrino mass ordering, and even the results of fits can be stored in this object. Note that the neutrino ordering is not (yet) automatically determined by the modelfitting package, nor is it checked whether the results of a given random point indeed follow that ordering. For now there is only the class LeptonModel, however models for quark will be implemented soon into the modelfitting package. Since the paper does not compare the CP violating phase ‘d/pi’ to the experimental data, we will do the same here and only fit the three mixing angles as well as the squared neutrino mass differences. It is also not necessary to fit the charged lepton masses, since we already fixed them to their correct value."
   ]
  },
  {
   "cell_type": "code",
   "execution_count": 8,
   "id": "6dbf6957",
   "metadata": {},
   "outputs": [],
   "source": [
    "Model1 = mf.LeptonModel(name='Feruglios model 1', \n",
    "                       comments='''This was the first modular flavor symmetry model.\n",
    "                                Unfortunately it is now way outside the experimentally viable region.''',\n",
    "                       mass_matrix_e=Me,\n",
    "                       mass_matrix_n=Mn,\n",
    "                       parameterspace=ParamSpace,\n",
    "                       ordering='IO',\n",
    "                       experimental_data=mf.NuFit52_IO,\n",
    "                       fitted_observables=['s12^2', 's13^2', 's23^2', 'm21^2', 'm3l^2'])"
   ]
  },
  {
   "cell_type": "markdown",
   "id": "4554ae27",
   "metadata": {},
   "source": [
    "You can now test if the model works, by calculating a random sample point"
   ]
  },
  {
   "cell_type": "code",
   "execution_count": 9,
   "id": "dd4aa22f",
   "metadata": {},
   "outputs": [
    {
     "data": {
      "text/plain": [
       "{'me/mu': 0.0048,\n",
       " 'mu/mt': 0.0565,\n",
       " 's12^2': 0.9991115781501958,\n",
       " 's13^2': 0.00035343559508408545,\n",
       " 's23^2': 0.4766623073961315,\n",
       " 'd/pi': 0.27298106786456006,\n",
       " 'r': -0.9412549936833234,\n",
       " 'm21^2': 0.0012070299571483708,\n",
       " 'm3l^2': -0.0012823623409688543,\n",
       " 'm1': 0.02130032761458411,\n",
       " 'm2': 0.040752103180535175,\n",
       " 'm3': 0.019451775565951065,\n",
       " 'eta1': 0.27097477421734023,\n",
       " 'eta2': 0.3909343532988347,\n",
       " 'J': 0.00021149122919460127,\n",
       " 'Jmax': 0.00027964988509168563,\n",
       " 'Sum(m_i)': 0.08150420636107035,\n",
       " 'm_b': 0.040759693987073776,\n",
       " 'm_bb': 0.040711761585596584,\n",
       " 'nscale': 0.02036129651515678}"
      ]
     },
     "execution_count": 9,
     "metadata": {},
     "output_type": "execute_result"
    }
   ],
   "source": [
    "random_point = Model1.parameterspace.random_pt()\n",
    "Model1.get_obs(random_point)"
   ]
  },
  {
   "cell_type": "markdown",
   "id": "af5b9065",
   "metadata": {},
   "source": [
    "If you wanted to see, whether the model can also fit the experimental data for a normal ordered spectrum simply define"
   ]
  },
  {
   "cell_type": "code",
   "execution_count": 10,
   "id": "2e0d5b48",
   "metadata": {},
   "outputs": [],
   "source": [
    "Model1_NO = Model1.copy()\n",
    "Model1_NO.ordering = 'NO'\n",
    "Model1_NO.experimentaldata = mf.NuFit52_NO"
   ]
  },
  {
   "cell_type": "markdown",
   "id": "f98ea254",
   "metadata": {},
   "source": [
    "and do the following fitting with Model1_NO."
   ]
  },
  {
   "cell_type": "markdown",
   "id": "1abdc1ab",
   "metadata": {},
   "source": [
    "## Fitting"
   ]
  },
  {
   "cell_type": "markdown",
   "id": "525d744d",
   "metadata": {},
   "source": [
    "We can now fit our model to match experimental data as good as possible. This is done by simply calling 'make_fit(points=int)' on the LeptonModel. This yields a pandas.DataFrame object, which is very convenient in data handling. Automatically, it is sorted such that the lowest $\\chi^2$ is on top.\n",
    "\n",
    "The fit is based on the lmfit minimizer, cf. https://lmfit.github.io/lmfit-py/intro.html. When fitting a LeptonModel a certain number of random points according to the sample functions of the parameter space are drawn. Then several minimization algorithms (methods) implemented in lmfit are applied consecutively several times (nr_methods) onto every random point. Since minimization algorithms sometimes get lost and run very long, every applied algorithm is stopped after a certain amount of second (max_time). These and other arguments used for the fit, can be adjusted to the individual needs. However, in most cases the default values work very well and it is not necessary to adjust them. Here, we will do it for the purpose of demonstation."
   ]
  },
  {
   "cell_type": "code",
   "execution_count": 11,
   "id": "c00d5bff",
   "metadata": {},
   "outputs": [
    {
     "data": {
      "text/html": [
       "<div>\n",
       "<style scoped>\n",
       "    .dataframe tbody tr th:only-of-type {\n",
       "        vertical-align: middle;\n",
       "    }\n",
       "\n",
       "    .dataframe tbody tr th {\n",
       "        vertical-align: top;\n",
       "    }\n",
       "\n",
       "    .dataframe thead th {\n",
       "        text-align: right;\n",
       "    }\n",
       "</style>\n",
       "<table border=\"1\" class=\"dataframe\">\n",
       "  <thead>\n",
       "    <tr style=\"text-align: right;\">\n",
       "      <th></th>\n",
       "      <th>chisq</th>\n",
       "      <th>chisq_dimless</th>\n",
       "      <th>Retau</th>\n",
       "      <th>Imtau</th>\n",
       "      <th>n_scale</th>\n",
       "      <th>alpha</th>\n",
       "      <th>beta</th>\n",
       "      <th>gamma</th>\n",
       "      <th>me/mu</th>\n",
       "      <th>mu/mt</th>\n",
       "      <th>s12^2</th>\n",
       "      <th>s13^2</th>\n",
       "      <th>s23^2</th>\n",
       "      <th>d/pi</th>\n",
       "      <th>r</th>\n",
       "      <th>m21^2</th>\n",
       "      <th>m3l^2</th>\n",
       "      <th>m1</th>\n",
       "      <th>m2</th>\n",
       "      <th>m3</th>\n",
       "      <th>eta1</th>\n",
       "      <th>eta2</th>\n",
       "      <th>J</th>\n",
       "      <th>Jmax</th>\n",
       "      <th>Sum(m_i)</th>\n",
       "      <th>m_b</th>\n",
       "      <th>m_bb</th>\n",
       "      <th>nscale</th>\n",
       "    </tr>\n",
       "  </thead>\n",
       "  <tbody>\n",
       "    <tr>\n",
       "      <th>0</th>\n",
       "      <td>1234.353641</td>\n",
       "      <td>1234.353753</td>\n",
       "      <td>-0.011593</td>\n",
       "      <td>0.994570</td>\n",
       "      <td>1.0</td>\n",
       "      <td>0.000271</td>\n",
       "      <td>0.0565</td>\n",
       "      <td>1.0</td>\n",
       "      <td>0.0048</td>\n",
       "      <td>0.0565</td>\n",
       "      <td>0.301488</td>\n",
       "      <td>0.044683</td>\n",
       "      <td>0.348875</td>\n",
       "      <td>1.453327</td>\n",
       "      <td>-0.029744</td>\n",
       "      <td>0.000074</td>\n",
       "      <td>-0.002489</td>\n",
       "      <td>0.049144</td>\n",
       "      <td>0.049892</td>\n",
       "      <td>0.000747</td>\n",
       "      <td>0.245393</td>\n",
       "      <td>1.029619</td>\n",
       "      <td>-0.043694</td>\n",
       "      <td>0.044168</td>\n",
       "      <td>0.099784</td>\n",
       "      <td>0.049269</td>\n",
       "      <td>0.038489</td>\n",
       "      <td>0.021933</td>\n",
       "    </tr>\n",
       "    <tr>\n",
       "      <th>1</th>\n",
       "      <td>1234.354409</td>\n",
       "      <td>1234.353726</td>\n",
       "      <td>-0.011592</td>\n",
       "      <td>0.994571</td>\n",
       "      <td>1.0</td>\n",
       "      <td>0.000271</td>\n",
       "      <td>0.0565</td>\n",
       "      <td>1.0</td>\n",
       "      <td>0.0048</td>\n",
       "      <td>0.0565</td>\n",
       "      <td>0.301487</td>\n",
       "      <td>0.044683</td>\n",
       "      <td>0.348875</td>\n",
       "      <td>1.453328</td>\n",
       "      <td>-0.029741</td>\n",
       "      <td>0.000074</td>\n",
       "      <td>-0.002489</td>\n",
       "      <td>0.049146</td>\n",
       "      <td>0.049893</td>\n",
       "      <td>0.000747</td>\n",
       "      <td>0.245393</td>\n",
       "      <td>1.029619</td>\n",
       "      <td>-0.043694</td>\n",
       "      <td>0.044168</td>\n",
       "      <td>0.099786</td>\n",
       "      <td>0.049270</td>\n",
       "      <td>0.038490</td>\n",
       "      <td>0.021934</td>\n",
       "    </tr>\n",
       "    <tr>\n",
       "      <th>2</th>\n",
       "      <td>1234.355444</td>\n",
       "      <td>1234.353745</td>\n",
       "      <td>-0.011591</td>\n",
       "      <td>0.994572</td>\n",
       "      <td>1.0</td>\n",
       "      <td>0.000271</td>\n",
       "      <td>0.0565</td>\n",
       "      <td>1.0</td>\n",
       "      <td>0.0048</td>\n",
       "      <td>0.0565</td>\n",
       "      <td>0.301488</td>\n",
       "      <td>0.044683</td>\n",
       "      <td>0.348875</td>\n",
       "      <td>1.453328</td>\n",
       "      <td>-0.029737</td>\n",
       "      <td>0.000074</td>\n",
       "      <td>-0.002489</td>\n",
       "      <td>0.049147</td>\n",
       "      <td>0.049895</td>\n",
       "      <td>0.000747</td>\n",
       "      <td>0.245392</td>\n",
       "      <td>1.029619</td>\n",
       "      <td>-0.043694</td>\n",
       "      <td>0.044168</td>\n",
       "      <td>0.099789</td>\n",
       "      <td>0.049271</td>\n",
       "      <td>0.038491</td>\n",
       "      <td>0.021934</td>\n",
       "    </tr>\n",
       "    <tr>\n",
       "      <th>3</th>\n",
       "      <td>1234.355514</td>\n",
       "      <td>1234.353722</td>\n",
       "      <td>-0.011591</td>\n",
       "      <td>0.994572</td>\n",
       "      <td>1.0</td>\n",
       "      <td>0.000271</td>\n",
       "      <td>0.0565</td>\n",
       "      <td>1.0</td>\n",
       "      <td>0.0048</td>\n",
       "      <td>0.0565</td>\n",
       "      <td>0.301488</td>\n",
       "      <td>0.044683</td>\n",
       "      <td>0.348875</td>\n",
       "      <td>1.453328</td>\n",
       "      <td>-0.029737</td>\n",
       "      <td>0.000074</td>\n",
       "      <td>-0.002489</td>\n",
       "      <td>0.049147</td>\n",
       "      <td>0.049895</td>\n",
       "      <td>0.000747</td>\n",
       "      <td>0.245393</td>\n",
       "      <td>1.029619</td>\n",
       "      <td>-0.043694</td>\n",
       "      <td>0.044168</td>\n",
       "      <td>0.099789</td>\n",
       "      <td>0.049271</td>\n",
       "      <td>0.038491</td>\n",
       "      <td>0.021935</td>\n",
       "    </tr>\n",
       "    <tr>\n",
       "      <th>4</th>\n",
       "      <td>1234.355775</td>\n",
       "      <td>1234.354014</td>\n",
       "      <td>-0.011591</td>\n",
       "      <td>0.994571</td>\n",
       "      <td>1.0</td>\n",
       "      <td>0.000271</td>\n",
       "      <td>0.0565</td>\n",
       "      <td>1.0</td>\n",
       "      <td>0.0048</td>\n",
       "      <td>0.0565</td>\n",
       "      <td>0.301471</td>\n",
       "      <td>0.044683</td>\n",
       "      <td>0.348875</td>\n",
       "      <td>1.453324</td>\n",
       "      <td>-0.029737</td>\n",
       "      <td>0.000074</td>\n",
       "      <td>-0.002489</td>\n",
       "      <td>0.049147</td>\n",
       "      <td>0.049895</td>\n",
       "      <td>0.000747</td>\n",
       "      <td>0.245407</td>\n",
       "      <td>1.029630</td>\n",
       "      <td>-0.043693</td>\n",
       "      <td>0.044167</td>\n",
       "      <td>0.099789</td>\n",
       "      <td>0.049271</td>\n",
       "      <td>0.038491</td>\n",
       "      <td>0.021934</td>\n",
       "    </tr>\n",
       "    <tr>\n",
       "      <th>5</th>\n",
       "      <td>1234.361826</td>\n",
       "      <td>1234.356653</td>\n",
       "      <td>-0.011613</td>\n",
       "      <td>0.994560</td>\n",
       "      <td>1.0</td>\n",
       "      <td>0.000271</td>\n",
       "      <td>0.0565</td>\n",
       "      <td>1.0</td>\n",
       "      <td>0.0048</td>\n",
       "      <td>0.0565</td>\n",
       "      <td>0.301459</td>\n",
       "      <td>0.044684</td>\n",
       "      <td>0.348874</td>\n",
       "      <td>1.453314</td>\n",
       "      <td>-0.029794</td>\n",
       "      <td>0.000074</td>\n",
       "      <td>-0.002487</td>\n",
       "      <td>0.049122</td>\n",
       "      <td>0.049871</td>\n",
       "      <td>0.000748</td>\n",
       "      <td>0.245421</td>\n",
       "      <td>1.029636</td>\n",
       "      <td>-0.043693</td>\n",
       "      <td>0.044167</td>\n",
       "      <td>0.099741</td>\n",
       "      <td>0.049249</td>\n",
       "      <td>0.038472</td>\n",
       "      <td>0.021923</td>\n",
       "    </tr>\n",
       "    <tr>\n",
       "      <th>6</th>\n",
       "      <td>1234.383804</td>\n",
       "      <td>1234.381734</td>\n",
       "      <td>-0.011634</td>\n",
       "      <td>0.994665</td>\n",
       "      <td>1.0</td>\n",
       "      <td>0.000271</td>\n",
       "      <td>0.0565</td>\n",
       "      <td>1.0</td>\n",
       "      <td>0.0048</td>\n",
       "      <td>0.0565</td>\n",
       "      <td>0.305000</td>\n",
       "      <td>0.044684</td>\n",
       "      <td>0.348874</td>\n",
       "      <td>1.454261</td>\n",
       "      <td>-0.029736</td>\n",
       "      <td>0.000074</td>\n",
       "      <td>-0.002489</td>\n",
       "      <td>0.049148</td>\n",
       "      <td>0.049895</td>\n",
       "      <td>0.000747</td>\n",
       "      <td>0.242430</td>\n",
       "      <td>1.027428</td>\n",
       "      <td>-0.043856</td>\n",
       "      <td>0.044313</td>\n",
       "      <td>0.099790</td>\n",
       "      <td>0.049269</td>\n",
       "      <td>0.038490</td>\n",
       "      <td>0.021937</td>\n",
       "    </tr>\n",
       "    <tr>\n",
       "      <th>7</th>\n",
       "      <td>1234.396654</td>\n",
       "      <td>1234.382445</td>\n",
       "      <td>-0.011623</td>\n",
       "      <td>0.994671</td>\n",
       "      <td>1.0</td>\n",
       "      <td>0.000271</td>\n",
       "      <td>0.0565</td>\n",
       "      <td>1.0</td>\n",
       "      <td>0.0048</td>\n",
       "      <td>0.0565</td>\n",
       "      <td>0.305000</td>\n",
       "      <td>0.044684</td>\n",
       "      <td>0.348874</td>\n",
       "      <td>1.454264</td>\n",
       "      <td>-0.029706</td>\n",
       "      <td>0.000074</td>\n",
       "      <td>-0.002490</td>\n",
       "      <td>0.049161</td>\n",
       "      <td>0.049908</td>\n",
       "      <td>0.000747</td>\n",
       "      <td>0.242428</td>\n",
       "      <td>1.027428</td>\n",
       "      <td>-0.043856</td>\n",
       "      <td>0.044313</td>\n",
       "      <td>0.099815</td>\n",
       "      <td>0.049281</td>\n",
       "      <td>0.038500</td>\n",
       "      <td>0.021943</td>\n",
       "    </tr>\n",
       "    <tr>\n",
       "      <th>8</th>\n",
       "      <td>1234.399489</td>\n",
       "      <td>1234.379165</td>\n",
       "      <td>-0.011647</td>\n",
       "      <td>0.994533</td>\n",
       "      <td>1.0</td>\n",
       "      <td>0.000271</td>\n",
       "      <td>0.0565</td>\n",
       "      <td>1.0</td>\n",
       "      <td>0.0048</td>\n",
       "      <td>0.0565</td>\n",
       "      <td>0.301126</td>\n",
       "      <td>0.044684</td>\n",
       "      <td>0.348874</td>\n",
       "      <td>1.453215</td>\n",
       "      <td>-0.029892</td>\n",
       "      <td>0.000074</td>\n",
       "      <td>-0.002482</td>\n",
       "      <td>0.049080</td>\n",
       "      <td>0.049830</td>\n",
       "      <td>0.000750</td>\n",
       "      <td>0.245709</td>\n",
       "      <td>1.029843</td>\n",
       "      <td>-0.043677</td>\n",
       "      <td>0.044153</td>\n",
       "      <td>0.099660</td>\n",
       "      <td>0.049210</td>\n",
       "      <td>0.038438</td>\n",
       "      <td>0.021904</td>\n",
       "    </tr>\n",
       "    <tr>\n",
       "      <th>9</th>\n",
       "      <td>1234.457181</td>\n",
       "      <td>1234.384970</td>\n",
       "      <td>-0.011554</td>\n",
       "      <td>0.994613</td>\n",
       "      <td>1.0</td>\n",
       "      <td>0.000271</td>\n",
       "      <td>0.0565</td>\n",
       "      <td>1.0</td>\n",
       "      <td>0.0048</td>\n",
       "      <td>0.0565</td>\n",
       "      <td>0.302207</td>\n",
       "      <td>0.044683</td>\n",
       "      <td>0.348875</td>\n",
       "      <td>1.453532</td>\n",
       "      <td>-0.029619</td>\n",
       "      <td>0.000074</td>\n",
       "      <td>-0.002494</td>\n",
       "      <td>0.049199</td>\n",
       "      <td>0.049944</td>\n",
       "      <td>0.000745</td>\n",
       "      <td>0.244777</td>\n",
       "      <td>1.029172</td>\n",
       "      <td>-0.043728</td>\n",
       "      <td>0.044198</td>\n",
       "      <td>0.099889</td>\n",
       "      <td>0.049318</td>\n",
       "      <td>0.038532</td>\n",
       "      <td>0.021958</td>\n",
       "    </tr>\n",
       "  </tbody>\n",
       "</table>\n",
       "</div>"
      ],
      "text/plain": [
       "         chisq  chisq_dimless     Retau     Imtau  n_scale     alpha    beta  \\\n",
       "0  1234.353641    1234.353753 -0.011593  0.994570      1.0  0.000271  0.0565   \n",
       "1  1234.354409    1234.353726 -0.011592  0.994571      1.0  0.000271  0.0565   \n",
       "2  1234.355444    1234.353745 -0.011591  0.994572      1.0  0.000271  0.0565   \n",
       "3  1234.355514    1234.353722 -0.011591  0.994572      1.0  0.000271  0.0565   \n",
       "4  1234.355775    1234.354014 -0.011591  0.994571      1.0  0.000271  0.0565   \n",
       "5  1234.361826    1234.356653 -0.011613  0.994560      1.0  0.000271  0.0565   \n",
       "6  1234.383804    1234.381734 -0.011634  0.994665      1.0  0.000271  0.0565   \n",
       "7  1234.396654    1234.382445 -0.011623  0.994671      1.0  0.000271  0.0565   \n",
       "8  1234.399489    1234.379165 -0.011647  0.994533      1.0  0.000271  0.0565   \n",
       "9  1234.457181    1234.384970 -0.011554  0.994613      1.0  0.000271  0.0565   \n",
       "\n",
       "   gamma   me/mu   mu/mt     s12^2     s13^2     s23^2      d/pi         r  \\\n",
       "0    1.0  0.0048  0.0565  0.301488  0.044683  0.348875  1.453327 -0.029744   \n",
       "1    1.0  0.0048  0.0565  0.301487  0.044683  0.348875  1.453328 -0.029741   \n",
       "2    1.0  0.0048  0.0565  0.301488  0.044683  0.348875  1.453328 -0.029737   \n",
       "3    1.0  0.0048  0.0565  0.301488  0.044683  0.348875  1.453328 -0.029737   \n",
       "4    1.0  0.0048  0.0565  0.301471  0.044683  0.348875  1.453324 -0.029737   \n",
       "5    1.0  0.0048  0.0565  0.301459  0.044684  0.348874  1.453314 -0.029794   \n",
       "6    1.0  0.0048  0.0565  0.305000  0.044684  0.348874  1.454261 -0.029736   \n",
       "7    1.0  0.0048  0.0565  0.305000  0.044684  0.348874  1.454264 -0.029706   \n",
       "8    1.0  0.0048  0.0565  0.301126  0.044684  0.348874  1.453215 -0.029892   \n",
       "9    1.0  0.0048  0.0565  0.302207  0.044683  0.348875  1.453532 -0.029619   \n",
       "\n",
       "      m21^2     m3l^2        m1        m2        m3      eta1      eta2  \\\n",
       "0  0.000074 -0.002489  0.049144  0.049892  0.000747  0.245393  1.029619   \n",
       "1  0.000074 -0.002489  0.049146  0.049893  0.000747  0.245393  1.029619   \n",
       "2  0.000074 -0.002489  0.049147  0.049895  0.000747  0.245392  1.029619   \n",
       "3  0.000074 -0.002489  0.049147  0.049895  0.000747  0.245393  1.029619   \n",
       "4  0.000074 -0.002489  0.049147  0.049895  0.000747  0.245407  1.029630   \n",
       "5  0.000074 -0.002487  0.049122  0.049871  0.000748  0.245421  1.029636   \n",
       "6  0.000074 -0.002489  0.049148  0.049895  0.000747  0.242430  1.027428   \n",
       "7  0.000074 -0.002490  0.049161  0.049908  0.000747  0.242428  1.027428   \n",
       "8  0.000074 -0.002482  0.049080  0.049830  0.000750  0.245709  1.029843   \n",
       "9  0.000074 -0.002494  0.049199  0.049944  0.000745  0.244777  1.029172   \n",
       "\n",
       "          J      Jmax  Sum(m_i)       m_b      m_bb    nscale  \n",
       "0 -0.043694  0.044168  0.099784  0.049269  0.038489  0.021933  \n",
       "1 -0.043694  0.044168  0.099786  0.049270  0.038490  0.021934  \n",
       "2 -0.043694  0.044168  0.099789  0.049271  0.038491  0.021934  \n",
       "3 -0.043694  0.044168  0.099789  0.049271  0.038491  0.021935  \n",
       "4 -0.043693  0.044167  0.099789  0.049271  0.038491  0.021934  \n",
       "5 -0.043693  0.044167  0.099741  0.049249  0.038472  0.021923  \n",
       "6 -0.043856  0.044313  0.099790  0.049269  0.038490  0.021937  \n",
       "7 -0.043856  0.044313  0.099815  0.049281  0.038500  0.021943  \n",
       "8 -0.043677  0.044153  0.099660  0.049210  0.038438  0.021904  \n",
       "9 -0.043728  0.044198  0.099889  0.049318  0.038532  0.021958  "
      ]
     },
     "execution_count": 11,
     "metadata": {},
     "output_type": "execute_result"
    }
   ],
   "source": [
    "pd.set_option('display.max_columns', None)  # This pandas setting allows us to see all columns\n",
    "\n",
    "# Adjusting the default setup for fitting.  Usually this is \n",
    "fitting_kwargs = {'nr_methods':2,\n",
    "                  'methods':['least_squares', 'least_squares', 'nelder', 'powell', 'cobyla'],\n",
    "                  'max_time':20}\n",
    "\n",
    "# Running the fit\n",
    "df = Model1.make_fit(points=5, **fitting_kwargs)\n",
    "df"
   ]
  },
  {
   "cell_type": "markdown",
   "id": "9d9abd08",
   "metadata": {},
   "source": [
    "We can also store this result for later purpose in the LeptonModel object"
   ]
  },
  {
   "cell_type": "code",
   "execution_count": 12,
   "id": "9ca03356",
   "metadata": {},
   "outputs": [],
   "source": [
    "Model1.fit_results.append(df)  # call it with Model1.fit_results[0]"
   ]
  },
  {
   "cell_type": "markdown",
   "id": "7a312295",
   "metadata": {},
   "source": [
    "The fitting of this model is rather easy and does not require a lot of recources. However, if one was to fit a more involved model with more parameters, it can be necessary to run the fit on an external machine, e.g. a server, and then transfer the result back to your local machine. To keep the transfer-file as small as possible it is advisable to only do the dimensionless fit on the external machine, since this is the computation heavy part. The fitting of the neutrino mass scale and adding of all lepton observables can then be done on the local machine. The workflow would be as follows"
   ]
  },
  {
   "cell_type": "code",
   "execution_count": 13,
   "id": "0be0cae9",
   "metadata": {},
   "outputs": [],
   "source": [
    "# On the external machine, define the model and then run\n",
    "df = Model1.dimless_fit(points=10)\n",
    "\n",
    "# Then export 'df' to a file, e.g. a csv with 'df.to_csv(\"/path_to_file/results.csv\", index=False)'\n",
    "# Transfer this file 'results.csv' to your local machine\n",
    "# On your local machine, import the file as 'df' with, e.g. 'df = pd.read_csv(\"/path_to_file/results.csv\")'\n",
    "\n",
    "# This df only contains the values of the parameters and chisquare. To add the lepton observables call\n",
    "df = Model1.complete_fit(df)\n",
    "\n",
    "# And store it in the model\n",
    "Model1.fit_results.append(df)"
   ]
  },
  {
   "cell_type": "markdown",
   "id": "bb80c405",
   "metadata": {},
   "source": [
    "## Analysing results"
   ]
  },
  {
   "cell_type": "markdown",
   "id": "b6960c23",
   "metadata": {},
   "source": [
    "You can now analyse the pandas.DataFrame that contains the fit results conveniently with all the methods that pandas provides. For this example, let us just look at the $\\chi^2$-decomposition of the best fit point"
   ]
  },
  {
   "cell_type": "code",
   "execution_count": 14,
   "id": "9dbc5ad6",
   "metadata": {},
   "outputs": [
    {
     "name": "stdout",
     "output_type": "stream",
     "text": [
      "'s12^2': 0.30148745710418756,   chisq: 1.842854286243905e-07\n",
      "'s13^2': 0.04468341551341434,   chisq: 1158.3461754466634\n",
      "'s23^2': 0.3488745664597886,   chisq: 76.00430185479895\n",
      "'m21^2': 7.40189473301912e-05,   chisq: 0.00164910661347292\n",
      "'m3l^2': -0.0024887252187537957,   chisq: 0.0020412580318888026\n",
      "Total chi-square: 1234.3541678503932\n"
     ]
    }
   ],
   "source": [
    "Model1.print_chisq(df.loc[0])"
   ]
  },
  {
   "cell_type": "markdown",
   "id": "e72a04d2",
   "metadata": {},
   "source": [
    "As also discussed in the paper, the mixing angle $\\theta_{13}$ seems not to be in agreement with the experimental data. "
   ]
  },
  {
   "cell_type": "markdown",
   "id": "737428f3",
   "metadata": {},
   "source": [
    "## Exploring a minimum with Markov Chain Monte Carlo (MCMC)"
   ]
  },
  {
   "cell_type": "markdown",
   "id": "a60cb325",
   "metadata": {},
   "source": [
    "Using the emcee marcov chain monte carlo sampler one can conveniently explore the neighborhood and hence the confidence level contours of a specific minimum. This then also yields nice pictures ;)\n",
    "\n",
    "Unfortunately this is yet to come and still has to be implemented into the modelfitting module"
   ]
  },
  {
   "cell_type": "code",
   "execution_count": 15,
   "id": "fea63c56",
   "metadata": {},
   "outputs": [
    {
     "name": "stdout",
     "output_type": "stream",
     "text": [
      "0 : \n"
     ]
    },
    {
     "name": "stderr",
     "output_type": "stream",
     "text": [
      "100%|██████████| 2000/2000 [00:41<00:00, 47.69it/s]\n"
     ]
    }
   ],
   "source": [
    "df_mcmc = Model1.mcmc_fit(df.loc[[0]], mcmc_steps=2000)\n",
    "df_mcmc = Model1.complete_fit(df_mcmc)"
   ]
  },
  {
   "cell_type": "code",
   "execution_count": 17,
   "id": "b0036393",
   "metadata": {},
   "outputs": [
    {
     "data": {
      "text/plain": [
       "<AxesSubplot:xlabel='Retau', ylabel='Imtau'>"
      ]
     },
     "execution_count": 17,
     "metadata": {},
     "output_type": "execute_result"
    },
    {
     "data": {
      "image/png": "[encoded data removed]",
      "text/plain": [
       "<Figure size 432x288 with 2 Axes>"
      ]
     },
     "metadata": {
      "needs_background": "light"
     },
     "output_type": "display_data"
    }
   ],
   "source": [
    "df_mcmc.plot(kind='hexbin', x='Retau', y='Imtau', C='chisq', \n",
    "             reduce_C_function=np.min, cmap='viridis_r', vmax=np.min(df_mcmc['chisq'])+25, \n",
    "             sharex=False)"
   ]
  },
  {
   "cell_type": "markdown",
   "id": "14b9bc2c",
   "metadata": {},
   "source": [
    "# Documentation"
   ]
  },
  {
   "cell_type": "markdown",
   "id": "6f256070",
   "metadata": {},
   "source": [
    "The code of FlavorPy is documented. There is\n",
    "\n",
    "Or simply execute for example"
   ]
  },
  {
   "cell_type": "code",
   "execution_count": 18,
   "id": "d8940ddb",
   "metadata": {},
   "outputs": [
    {
     "name": "stdout",
     "output_type": "stream",
     "text": [
      "\n",
      "        Does the fit for a specific number of random points in parameterspace.\n",
      "\n",
      "        :param points: The number of random points in parameter space you want to fit.\n",
      "            If you want to fit a specific starting point in parameter space, adjust the 'sampling_fct' in your\n",
      "            ParameterSpace.\n",
      "        :type points: int\n",
      "\n",
      "        :param fitting_kwargs: properties of the Fit class.\n",
      "            You can add keyword arguments that will be passed down to the Fit object used to make the fit.\n",
      "            Please see the documentation of the Fit class for the specific keyword arguments. Of course, the keywords\n",
      "            'model' and 'params' can not be passed down to Fit.\n",
      "\n",
      "        :return: The result of the fit is returned in form of a pandas.DataFrame.\n",
      "            Note that several (default:4) minimization algorithms are applied consecutively to one random point. Since\n",
      "            the results of the intermediate steps are also written into the resulting DataFrame, it has more rows than\n",
      "            the number entered as 'points'.\n",
      "        :rtype: pandas.DataFrame\n",
      "        \n"
     ]
    }
   ],
   "source": [
    "print(mf.LeptonModel.make_fit.__doc__)"
   ]
  }
 ],
 "metadata": {
  "kernelspec": {
   "display_name": "Python 3",
   "language": "python",
   "name": "python3"
  },
  "language_info": {
   "codemirror_mode": {
    "name": "ipython",
    "version": 3
   },
   "file_extension": ".py",
   "mimetype": "text/x-python",
   "name": "python",
   "nbconvert_exporter": "python",
   "pygments_lexer": "ipython3",
   "version": "3.8.10"
  }
 },
 "nbformat": 4,
 "nbformat_minor": 5
}
